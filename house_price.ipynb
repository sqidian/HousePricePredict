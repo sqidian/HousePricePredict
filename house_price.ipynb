{
 "cells": [
  {
   "cell_type": "markdown",
   "metadata": {},
   "source": [
    "# 链家经纪人成交数据预测-房价走势"
   ]
  },
  {
   "cell_type": "markdown",
   "metadata": {},
   "source": [
    "## 一、引入数据"
   ]
  },
  {
   "cell_type": "markdown",
   "metadata": {},
   "source": [
    "### 1.1 引入相关包"
   ]
  },
  {
   "cell_type": "code",
   "execution_count": 1,
   "metadata": {},
   "outputs": [],
   "source": [
    "import pandas as pd\n",
    "import numpy as np\n",
    "import matplotlib.pyplot as plt\n",
    "%matplotlib inline"
   ]
  },
  {
   "cell_type": "markdown",
   "metadata": {},
   "source": [
    "### 1.2 读入数据"
   ]
  },
  {
   "cell_type": "code",
   "execution_count": 2,
   "metadata": {},
   "outputs": [],
   "source": [
    "#读入数据\n",
    "#考虑到文件编码方式的不同\n",
    "data_list = []\n",
    "for i in range(1,8):\n",
    "    try:\n",
    "        data = pd.read_csv('./fangchan/lianjia{}.csv'.format(i),encoding = 'gbk')\n",
    "    except:\n",
    "        data = pd.read_csv('./fangchan/lianjia{}.csv'.format(i))\n",
    "    finally:\n",
    "        #合并数据集 \n",
    "        data_list.append(data)\n",
    "data = pd.concat(data_list)"
   ]
  },
  {
   "cell_type": "markdown",
   "metadata": {},
   "source": [
    "#****等价于\n",
    "data1 = pd.read_csv('./fangchan/lianjia1.csv',encoding = 'gbk')\n",
    "data2 = pd.read_csv('./fangchan/lianjia2.csv',encoding = 'gbk')\n",
    "data3 = pd.read_csv('./fangchan/lianjia3.csv',encoding = 'utf-8')\n",
    "data4 = pd.read_csv('./fangchan/lianjia4.csv',encoding = 'utf-8')\n",
    "data5 = pd.read_csv('./fangchan/lianjia5.csv',encoding = 'utf-8')\n",
    "data6 = pd.read_csv('./fangchan/lianjia6.csv',encoding = 'utf-8')\n",
    "data7 = pd.read_csv('./fangchan/lianjia7.csv',encoding = 'utf-8')\n",
    "#合并数据集   合并数据集方法2\n",
    "data = pd.concat([data1,data2,data3,data4,data5,data6,data7])"
   ]
  },
  {
   "cell_type": "markdown",
   "metadata": {},
   "source": [
    "### 1.3 查看数据"
   ]
  },
  {
   "cell_type": "markdown",
   "metadata": {},
   "source": [
    "####  查看数据都包含哪些部分"
   ]
  },
  {
   "cell_type": "code",
   "execution_count": 3,
   "metadata": {},
   "outputs": [
    {
     "name": "stdout",
     "output_type": "stream",
     "text": [
      "<class 'pandas.core.frame.DataFrame'>\n",
      "Int64Index: 162227 entries, 0 to 6680\n",
      "Data columns (total 14 columns):\n",
      "cjtaoshu          162227 non-null int64\n",
      "mendian           162214 non-null object\n",
      "cjzongjia         162226 non-null float64\n",
      "zhiwei            162226 non-null object\n",
      "haoping           162226 non-null object\n",
      "cjdanjia          162226 non-null object\n",
      "cjxiaoqu          162226 non-null object\n",
      "xingming          162226 non-null object\n",
      "cjzhouqi          162226 non-null object\n",
      "biaoqian          145553 non-null object\n",
      "cjlouceng         162226 non-null object\n",
      "cjshijian         162226 non-null object\n",
      "congyenianxian    162226 non-null object\n",
      "bankuai           160906 non-null object\n",
      "dtypes: float64(1), int64(1), object(12)\n",
      "memory usage: 18.6+ MB\n"
     ]
    }
   ],
   "source": [
    "data.info()"
   ]
  },
  {
   "cell_type": "markdown",
   "metadata": {},
   "source": [
    "从上述信息可以看出有缺失值，因此需要对缺失值进行处理。缺失值的列名：mendian、cjzongjia、zhiwei、haoping、cjdanjia、cjxiaoqu、xingming、cjzhouqi、biaoqian、cjlouceng、cjshijian、congyenianxian、bankuai "
   ]
  },
  {
   "cell_type": "code",
   "execution_count": 4,
   "metadata": {},
   "outputs": [
    {
     "data": {
      "text/html": [
       "<div>\n",
       "<style scoped>\n",
       "    .dataframe tbody tr th:only-of-type {\n",
       "        vertical-align: middle;\n",
       "    }\n",
       "\n",
       "    .dataframe tbody tr th {\n",
       "        vertical-align: top;\n",
       "    }\n",
       "\n",
       "    .dataframe thead th {\n",
       "        text-align: right;\n",
       "    }\n",
       "</style>\n",
       "<table border=\"1\" class=\"dataframe\">\n",
       "  <thead>\n",
       "    <tr style=\"text-align: right;\">\n",
       "      <th></th>\n",
       "      <th>cjtaoshu</th>\n",
       "      <th>mendian</th>\n",
       "      <th>cjzongjia</th>\n",
       "      <th>zhiwei</th>\n",
       "      <th>haoping</th>\n",
       "      <th>cjdanjia</th>\n",
       "      <th>cjxiaoqu</th>\n",
       "      <th>xingming</th>\n",
       "      <th>cjzhouqi</th>\n",
       "      <th>biaoqian</th>\n",
       "      <th>cjlouceng</th>\n",
       "      <th>cjshijian</th>\n",
       "      <th>congyenianxian</th>\n",
       "      <th>bankuai</th>\n",
       "    </tr>\n",
       "  </thead>\n",
       "  <tbody>\n",
       "    <tr>\n",
       "      <th>0</th>\n",
       "      <td>37</td>\n",
       "      <td>红莲北里店</td>\n",
       "      <td>251.0</td>\n",
       "      <td>店经理</td>\n",
       "      <td>97% 141</td>\n",
       "      <td>43997元/平</td>\n",
       "      <td>红莲北里 3室1厅 57平</td>\n",
       "      <td>郭海龙</td>\n",
       "      <td>36</td>\n",
       "      <td>房东信赖;销售达人;带看活跃</td>\n",
       "      <td>南 北/高楼层/6层</td>\n",
       "      <td>签约时间：2015-05-24</td>\n",
       "      <td>4-5年</td>\n",
       "      <td>马连道</td>\n",
       "    </tr>\n",
       "    <tr>\n",
       "      <th>1</th>\n",
       "      <td>37</td>\n",
       "      <td>红莲北里店</td>\n",
       "      <td>159.0</td>\n",
       "      <td>店经理</td>\n",
       "      <td>97% 141</td>\n",
       "      <td>36969元/平</td>\n",
       "      <td>红莲南里 1室1厅 43平</td>\n",
       "      <td>郭海龙</td>\n",
       "      <td>36</td>\n",
       "      <td>房东信赖;销售达人;带看活跃</td>\n",
       "      <td>南/高楼层/7层</td>\n",
       "      <td>签约时间：2015-05-10</td>\n",
       "      <td>4-5年</td>\n",
       "      <td>马连道</td>\n",
       "    </tr>\n",
       "    <tr>\n",
       "      <th>2</th>\n",
       "      <td>37</td>\n",
       "      <td>红莲北里店</td>\n",
       "      <td>257.0</td>\n",
       "      <td>店经理</td>\n",
       "      <td>97% 141</td>\n",
       "      <td>39046元/平</td>\n",
       "      <td>常青藤嘉园 1室1厅 65平</td>\n",
       "      <td>郭海龙</td>\n",
       "      <td>36</td>\n",
       "      <td>房东信赖;销售达人;带看活跃</td>\n",
       "      <td>北/低楼层/16层</td>\n",
       "      <td>签约时间：2015-04-26</td>\n",
       "      <td>4-5年</td>\n",
       "      <td>马连道</td>\n",
       "    </tr>\n",
       "  </tbody>\n",
       "</table>\n",
       "</div>"
      ],
      "text/plain": [
       "   cjtaoshu mendian  cjzongjia zhiwei  haoping  cjdanjia        cjxiaoqu  \\\n",
       "0        37   红莲北里店      251.0    店经理  97% 141  43997元/平   红莲北里 3室1厅 57平   \n",
       "1        37   红莲北里店      159.0    店经理  97% 141  36969元/平   红莲南里 1室1厅 43平   \n",
       "2        37   红莲北里店      257.0    店经理  97% 141  39046元/平  常青藤嘉园 1室1厅 65平   \n",
       "\n",
       "  xingming cjzhouqi        biaoqian   cjlouceng        cjshijian  \\\n",
       "0      郭海龙       36  房东信赖;销售达人;带看活跃  南 北/高楼层/6层  签约时间：2015-05-24   \n",
       "1      郭海龙       36  房东信赖;销售达人;带看活跃    南/高楼层/7层  签约时间：2015-05-10   \n",
       "2      郭海龙       36  房东信赖;销售达人;带看活跃   北/低楼层/16层  签约时间：2015-04-26   \n",
       "\n",
       "  congyenianxian bankuai  \n",
       "0           4-5年     马连道  \n",
       "1           4-5年     马连道  \n",
       "2           4-5年     马连道  "
      ]
     },
     "execution_count": 4,
     "metadata": {},
     "output_type": "execute_result"
    }
   ],
   "source": [
    "data.head(3)"
   ]
  },
  {
   "cell_type": "markdown",
   "metadata": {},
   "source": [
    "#### 查看每列的数据类型"
   ]
  },
  {
   "cell_type": "code",
   "execution_count": 5,
   "metadata": {},
   "outputs": [
    {
     "data": {
      "text/plain": [
       "cjtaoshu            int64\n",
       "mendian            object\n",
       "cjzongjia         float64\n",
       "zhiwei             object\n",
       "haoping            object\n",
       "cjdanjia           object\n",
       "cjxiaoqu           object\n",
       "xingming           object\n",
       "cjzhouqi           object\n",
       "biaoqian           object\n",
       "cjlouceng          object\n",
       "cjshijian          object\n",
       "congyenianxian     object\n",
       "bankuai            object\n",
       "dtype: object"
      ]
     },
     "execution_count": 5,
     "metadata": {},
     "output_type": "execute_result"
    }
   ],
   "source": [
    "data.dtypes"
   ]
  },
  {
   "cell_type": "markdown",
   "metadata": {},
   "source": [
    "# 二、数据预处理\n"
   ]
  },
  {
   "cell_type": "markdown",
   "metadata": {},
   "source": [
    "# 目标：找出2012--2016年远洋山水小区的价格走势，进行房价走势预测、房产估价及其他（发挥自己想象力、需要加相应说明文字）"
   ]
  },
  {
   "cell_type": "markdown",
   "metadata": {},
   "source": [
    "### 2.1 将数据中的nan值去掉"
   ]
  },
  {
   "cell_type": "markdown",
   "metadata": {},
   "source": [
    "DataFrame.dropna(self, axis=0, how='any', thresh=None, subset=None, inplace=False)"
   ]
  },
  {
   "cell_type": "markdown",
   "metadata": {},
   "source": [
    "参数： axis : default 0指行,1为列 how: {‘any’, ‘all’}, default ‘any’指带缺失值的所有行;'all’指清除全是缺失值的 thresh: int,保留含有int个非空值的行 subset: 对特定的列进行缺失值删除处理 inplace: 这个很常见,True表示直接在原数据上更改"
   ]
  },
  {
   "cell_type": "code",
   "execution_count": 6,
   "metadata": {},
   "outputs": [],
   "source": [
    "data=data.dropna()"
   ]
  },
  {
   "cell_type": "code",
   "execution_count": 7,
   "metadata": {},
   "outputs": [
    {
     "data": {
      "text/plain": [
       "144531"
      ]
     },
     "execution_count": 7,
     "metadata": {},
     "output_type": "execute_result"
    }
   ],
   "source": [
    "len(data)"
   ]
  },
  {
   "cell_type": "markdown",
   "metadata": {},
   "source": [
    "### 2.2 处理cjdanjia"
   ]
  },
  {
   "cell_type": "code",
   "execution_count": 8,
   "metadata": {},
   "outputs": [],
   "source": [
    "data.cjdanjia = data.cjdanjia.map(lambda x: round(float(x.replace('元/平',''))/10000, 1))"
   ]
  },
  {
   "cell_type": "markdown",
   "metadata": {},
   "source": [
    "### 2.3 查看cjdanjia的一些性质"
   ]
  },
  {
   "cell_type": "markdown",
   "metadata": {},
   "source": [
    "#### 查看最大值"
   ]
  },
  {
   "cell_type": "code",
   "execution_count": 9,
   "metadata": {},
   "outputs": [
    {
     "data": {
      "text/plain": [
       "15.0"
      ]
     },
     "execution_count": 9,
     "metadata": {},
     "output_type": "execute_result"
    }
   ],
   "source": [
    "data.cjdanjia.max()"
   ]
  },
  {
   "cell_type": "markdown",
   "metadata": {},
   "source": [
    "#### 查看最小值"
   ]
  },
  {
   "cell_type": "code",
   "execution_count": 10,
   "metadata": {},
   "outputs": [
    {
     "data": {
      "text/plain": [
       "0.0"
      ]
     },
     "execution_count": 10,
     "metadata": {},
     "output_type": "execute_result"
    }
   ],
   "source": [
    "data.cjdanjia.min()"
   ]
  },
  {
   "cell_type": "markdown",
   "metadata": {},
   "source": [
    "#### 去除小于1的数据"
   ]
  },
  {
   "cell_type": "code",
   "execution_count": 11,
   "metadata": {},
   "outputs": [],
   "source": [
    "data = data[data['cjdanjia']>1 ]  "
   ]
  },
  {
   "cell_type": "markdown",
   "metadata": {},
   "source": [
    "#### 查看数据长度"
   ]
  },
  {
   "cell_type": "code",
   "execution_count": 12,
   "metadata": {},
   "outputs": [
    {
     "data": {
      "text/plain": [
       "142766"
      ]
     },
     "execution_count": 12,
     "metadata": {},
     "output_type": "execute_result"
    }
   ],
   "source": [
    "len(data)"
   ]
  },
  {
   "cell_type": "markdown",
   "metadata": {},
   "source": [
    "### 2.4 处理cjshijian"
   ]
  },
  {
   "cell_type": "markdown",
   "metadata": {},
   "source": [
    "#### 去除前5个字符"
   ]
  },
  {
   "cell_type": "code",
   "execution_count": 13,
   "metadata": {},
   "outputs": [],
   "source": [
    "data.cjshijian = data.cjshijian.str.replace('签约时间：', '')"
   ]
  },
  {
   "cell_type": "markdown",
   "metadata": {},
   "source": [
    "#### 变成时间序列"
   ]
  },
  {
   "cell_type": "code",
   "execution_count": 14,
   "metadata": {},
   "outputs": [
    {
     "data": {
      "text/plain": [
       "0      2015-05-24\n",
       "1      2015-05-10\n",
       "2      2015-04-26\n",
       "3      2015-04-04\n",
       "4      2015-04-01\n",
       "5      2015-03-25\n",
       "6      2015-03-19\n",
       "7      2015-03-14\n",
       "8      2015-02-07\n",
       "9      2013-08-17\n",
       "10     2013-08-05\n",
       "11     2013-05-29\n",
       "12     2013-01-13\n",
       "13     2012-12-17\n",
       "14     2012-12-08\n",
       "15     2012-11-27\n",
       "16     2012-10-17\n",
       "17     2016-10-26\n",
       "18     2016-09-14\n",
       "19     2016-06-25\n",
       "20     2016-06-07\n",
       "21     2016-05-15\n",
       "22     2016-05-07\n",
       "23     2016-04-19\n",
       "24     2016-04-01\n",
       "25     2016-03-10\n",
       "26     2016-03-04\n",
       "27     2015-12-27\n",
       "28     2015-12-27\n",
       "29     2015-11-29\n",
       "          ...    \n",
       "6512   2016-09-21\n",
       "6514   2016-08-27\n",
       "6515   2016-09-28\n",
       "6516   2016-06-06\n",
       "6517   2016-03-09\n",
       "6518   2016-03-06\n",
       "6530   2016-08-19\n",
       "6531   2016-07-03\n",
       "6551   2016-07-27\n",
       "6552   2016-11-06\n",
       "6553   2016-08-04\n",
       "6554   2016-06-25\n",
       "6556   2016-10-16\n",
       "6580   2016-09-14\n",
       "6585   2016-05-15\n",
       "6587   2016-07-22\n",
       "6588   2016-03-03\n",
       "6589   2016-06-04\n",
       "6590   2015-10-07\n",
       "6591   2015-08-09\n",
       "6592   2015-07-10\n",
       "6593   2015-06-28\n",
       "6594   2015-04-28\n",
       "6599   2016-10-16\n",
       "6652   2016-08-07\n",
       "6653   2016-07-13\n",
       "6656   2016-09-11\n",
       "6657   2016-04-10\n",
       "6658   2016-01-29\n",
       "6659   2015-12-20\n",
       "Name: cjshijian, Length: 142766, dtype: datetime64[ns]"
      ]
     },
     "execution_count": 14,
     "metadata": {},
     "output_type": "execute_result"
    }
   ],
   "source": [
    "pd.to_datetime(data.cjshijian)"
   ]
  },
  {
   "cell_type": "markdown",
   "metadata": {},
   "source": [
    "#### 按照时间排序"
   ]
  },
  {
   "cell_type": "code",
   "execution_count": 15,
   "metadata": {},
   "outputs": [],
   "source": [
    "data=data.sort_values( by = 'cjshijian') "
   ]
  },
  {
   "cell_type": "markdown",
   "metadata": {},
   "source": [
    "#### 将cjshijian设置为index"
   ]
  },
  {
   "cell_type": "code",
   "execution_count": 16,
   "metadata": {},
   "outputs": [],
   "source": [
    "data = data.set_index('cjshijian')"
   ]
  },
  {
   "cell_type": "markdown",
   "metadata": {},
   "source": [
    "#### 取出2012年以后的数据"
   ]
  },
  {
   "cell_type": "code",
   "execution_count": 17,
   "metadata": {},
   "outputs": [],
   "source": [
    "data=data[pd.to_datetime(data.index).year>=2012]"
   ]
  },
  {
   "cell_type": "markdown",
   "metadata": {},
   "source": [
    "#### 获取远洋山水小区的成交记录"
   ]
  },
  {
   "cell_type": "code",
   "execution_count": 18,
   "metadata": {},
   "outputs": [],
   "source": [
    "data = data[data.cjxiaoqu.str.contains('远洋山水')]"
   ]
  },
  {
   "cell_type": "markdown",
   "metadata": {},
   "source": [
    "#### 剔除异常值：价格>1才是有效数据"
   ]
  },
  {
   "cell_type": "code",
   "execution_count": 19,
   "metadata": {},
   "outputs": [],
   "source": [
    "data = data[data.cjdanjia > 1]"
   ]
  },
  {
   "cell_type": "code",
   "execution_count": 20,
   "metadata": {},
   "outputs": [
    {
     "data": {
      "text/plain": [
       "(480, 13)"
      ]
     },
     "execution_count": 20,
     "metadata": {},
     "output_type": "execute_result"
    }
   ],
   "source": [
    "data.shape"
   ]
  },
  {
   "cell_type": "markdown",
   "metadata": {},
   "source": [
    "# 三、建模及评价"
   ]
  },
  {
   "cell_type": "markdown",
   "metadata": {},
   "source": [
    "### 目标: 找出2012--2016年远洋山水小区的价格走势，并对房价走势预测、房屋估价及其他（发挥想象力来做）"
   ]
  },
  {
   "cell_type": "markdown",
   "metadata": {},
   "source": [
    "#### 3.1 处理数据：计算距离2012-01-01 的天数,并添加一列time"
   ]
  },
  {
   "cell_type": "code",
   "execution_count": 21,
   "metadata": {},
   "outputs": [],
   "source": [
    "data = data.assign(time =(pd.to_datetime(data.index)-pd.to_datetime('20120101')).days)"
   ]
  },
  {
   "cell_type": "markdown",
   "metadata": {},
   "source": [
    "#### 3.2 预测建模"
   ]
  },
  {
   "cell_type": "markdown",
   "metadata": {},
   "source": [
    "##### 找出时间和价格的走势的情况\n",
    "目标：若了解2012到2016年远洋山水小区的价格走势，进行房价趋势预测。"
   ]
  },
  {
   "cell_type": "markdown",
   "metadata": {},
   "source": [
    "#### 绘制散点图，查看趋势"
   ]
  },
  {
   "cell_type": "code",
   "execution_count": 22,
   "metadata": {},
   "outputs": [
    {
     "data": {
      "text/plain": [
       "Text(0, 0.5, 'House price(ten thousand yuan/m²)')"
      ]
     },
     "execution_count": 22,
     "metadata": {},
     "output_type": "execute_result"
    },
    {
     "data": {
      "image/png": "[encoded data removed]",
      "text/plain": [
       "<Figure size 720x576 with 1 Axes>"
      ]
     },
     "metadata": {
      "needs_background": "light"
     },
     "output_type": "display_data"
    }
   ],
   "source": [
    "plt.figure(figsize=(10,8))\n",
    "plt.scatter(data.time,data.cjdanjia)\n",
    "plt.xlabel(\"Date\")\n",
    "plt.ylabel(\"House price(ten thousand yuan/m²)\")"
   ]
  },
  {
   "cell_type": "markdown",
   "metadata": {},
   "source": [
    "#### 引入模型库"
   ]
  },
  {
   "cell_type": "code",
   "execution_count": 23,
   "metadata": {},
   "outputs": [],
   "source": [
    "from sklearn.linear_model import LinearRegression\n",
    "from sklearn.preprocessing import PolynomialFeatures"
   ]
  },
  {
   "cell_type": "markdown",
   "metadata": {},
   "source": [
    "#### 对数据去重"
   ]
  },
  {
   "cell_type": "markdown",
   "metadata": {},
   "source": [
    "目前，模型1和2考虑的是自变量时间与因变量单价的关系。模型3将自变量扩展到多个"
   ]
  },
  {
   "cell_type": "code",
   "execution_count": 24,
   "metadata": {},
   "outputs": [],
   "source": [
    "data_line=data[['time','cjdanjia']]"
   ]
  },
  {
   "cell_type": "markdown",
   "metadata": {},
   "source": [
    "查看重复数据数"
   ]
  },
  {
   "cell_type": "code",
   "execution_count": 25,
   "metadata": {},
   "outputs": [
    {
     "data": {
      "text/plain": [
       "32"
      ]
     },
     "execution_count": 25,
     "metadata": {},
     "output_type": "execute_result"
    }
   ],
   "source": [
    "data_line.duplicated().sum()"
   ]
  },
  {
   "cell_type": "markdown",
   "metadata": {},
   "source": [
    "数据去重"
   ]
  },
  {
   "cell_type": "code",
   "execution_count": 26,
   "metadata": {},
   "outputs": [],
   "source": [
    "data_line=data_line.drop_duplicates()"
   ]
  },
  {
   "cell_type": "markdown",
   "metadata": {},
   "source": [
    "#### 生成数据集"
   ]
  },
  {
   "cell_type": "code",
   "execution_count": 27,
   "metadata": {},
   "outputs": [],
   "source": [
    "x = data_line['time'].values.reshape(-1, 1)\n",
    "y = data_line['cjdanjia'].values.reshape(-1, 1)"
   ]
  },
  {
   "cell_type": "markdown",
   "metadata": {},
   "source": [
    "#### 划分数据集为训练集和测试集"
   ]
  },
  {
   "cell_type": "code",
   "execution_count": 28,
   "metadata": {},
   "outputs": [],
   "source": [
    "from sklearn.model_selection import train_test_split"
   ]
  },
  {
   "cell_type": "code",
   "execution_count": 29,
   "metadata": {},
   "outputs": [],
   "source": [
    "x_train, x_test, y_train, y_test = train_test_split(x, y, test_size = 0.2, random_state = 0)"
   ]
  },
  {
   "cell_type": "markdown",
   "metadata": {},
   "source": [
    "#### 建立模型1~线性回归（一元）"
   ]
  },
  {
   "cell_type": "code",
   "execution_count": 30,
   "metadata": {},
   "outputs": [
    {
     "data": {
      "text/plain": [
       "LinearRegression(copy_X=True, fit_intercept=True, n_jobs=None, normalize=False)"
      ]
     },
     "execution_count": 30,
     "metadata": {},
     "output_type": "execute_result"
    }
   ],
   "source": [
    "model1 = LinearRegression()\n",
    "model1.fit(x, y)"
   ]
  },
  {
   "cell_type": "markdown",
   "metadata": {},
   "source": [
    "#### 模型1预测"
   ]
  },
  {
   "cell_type": "code",
   "execution_count": 31,
   "metadata": {},
   "outputs": [],
   "source": [
    "y_predict1=model1.predict(x)"
   ]
  },
  {
   "cell_type": "markdown",
   "metadata": {},
   "source": [
    "#### 模型1结果可视化"
   ]
  },
  {
   "cell_type": "code",
   "execution_count": 32,
   "metadata": {},
   "outputs": [
    {
     "data": {
      "text/plain": [
       "Text(0, 0.5, 'House price(ten thousand yuan/m²)')"
      ]
     },
     "execution_count": 32,
     "metadata": {},
     "output_type": "execute_result"
    },
    {
     "data": {
      "image/png": "[encoded data removed]",
      "text/plain": [
       "<Figure size 720x576 with 1 Axes>"
      ]
     },
     "metadata": {
      "needs_background": "light"
     },
     "output_type": "display_data"
    }
   ],
   "source": [
    "plt.figure(figsize=(10,8))\n",
    "plt.scatter(x, y, color = 'blue')\n",
    "plt.plot(x, model1.predict(x), color = 'red')\n",
    "plt.xlabel(\"Date\")\n",
    "plt.ylabel(\"House price(ten thousand yuan/m²)\")"
   ]
  },
  {
   "cell_type": "markdown",
   "metadata": {},
   "source": [
    "#### 模型1评价"
   ]
  },
  {
   "cell_type": "code",
   "execution_count": 33,
   "metadata": {},
   "outputs": [],
   "source": [
    "from sklearn.metrics import mean_squared_error"
   ]
  },
  {
   "cell_type": "code",
   "execution_count": 34,
   "metadata": {},
   "outputs": [
    {
     "name": "stdout",
     "output_type": "stream",
     "text": [
      "模型1均方误差: 0.8592169319533419\n"
     ]
    }
   ],
   "source": [
    "mse=mean_squared_error(y,y_predict1)\n",
    "print(\"模型1均方误差:\",mse)"
   ]
  },
  {
   "cell_type": "markdown",
   "metadata": {},
   "source": [
    "#### 建立模型2~线性回归（多项式）"
   ]
  },
  {
   "cell_type": "code",
   "execution_count": 35,
   "metadata": {},
   "outputs": [
    {
     "data": {
      "text/plain": [
       "LinearRegression(copy_X=True, fit_intercept=True, n_jobs=None, normalize=False)"
      ]
     },
     "execution_count": 35,
     "metadata": {},
     "output_type": "execute_result"
    }
   ],
   "source": [
    "poly_reg = PolynomialFeatures(degree=3)\n",
    "x_poly = poly_reg.fit_transform(x)\n",
    "model2 = LinearRegression()\n",
    "model2.fit(x_poly, y)"
   ]
  },
  {
   "cell_type": "markdown",
   "metadata": {},
   "source": [
    "#### 模型2预测"
   ]
  },
  {
   "cell_type": "code",
   "execution_count": 36,
   "metadata": {},
   "outputs": [],
   "source": [
    "y_predict2=model2.predict(poly_reg.fit_transform(x))"
   ]
  },
  {
   "cell_type": "markdown",
   "metadata": {},
   "source": [
    "#### 模型2结果可视化"
   ]
  },
  {
   "cell_type": "code",
   "execution_count": 37,
   "metadata": {},
   "outputs": [
    {
     "data": {
      "text/plain": [
       "Text(0, 0.5, 'House price(ten thousand yuan/m²)')"
      ]
     },
     "execution_count": 37,
     "metadata": {},
     "output_type": "execute_result"
    },
    {
     "data": {
      "image/png": "[encoded data removed]",
      "text/plain": [
       "<Figure size 720x576 with 1 Axes>"
      ]
     },
     "metadata": {
      "needs_background": "light"
     },
     "output_type": "display_data"
    }
   ],
   "source": [
    "plt.figure(figsize=(10,8))\n",
    "plt.scatter(x, y, color='blue')\n",
    "plt.plot(x, model2.predict(x_poly),color='red')\n",
    "plt.xlabel(\"Date\")\n",
    "plt.ylabel(\"House price(ten thousand yuan/m²)\")"
   ]
  },
  {
   "cell_type": "markdown",
   "metadata": {},
   "source": [
    "#### 模型2评价"
   ]
  },
  {
   "cell_type": "code",
   "execution_count": 38,
   "metadata": {},
   "outputs": [
    {
     "name": "stdout",
     "output_type": "stream",
     "text": [
      "模型2均方误差: 0.62436202895849\n"
     ]
    }
   ],
   "source": [
    "mse=mean_squared_error(y,y_predict2)\n",
    "print(\"模型2均方误差:\",mse)"
   ]
  },
  {
   "cell_type": "markdown",
   "metadata": {},
   "source": [
    "#### 建立模型3~多元线性回归"
   ]
  },
  {
   "cell_type": "markdown",
   "metadata": {},
   "source": [
    "模型1和模型2，目前自变量只考虑了时间，我们先对数据进行一下处理，将自变量扩展到多个，看一下模型的拟合效果"
   ]
  },
  {
   "cell_type": "markdown",
   "metadata": {},
   "source": [
    "#### 数据处理"
   ]
  },
  {
   "cell_type": "markdown",
   "metadata": {},
   "source": [
    "#### 1.处理cjxiaoqu"
   ]
  },
  {
   "cell_type": "code",
   "execution_count": 39,
   "metadata": {},
   "outputs": [],
   "source": [
    "data_cjxiaoqu=data.cjxiaoqu.str.split(' ',expand=True)"
   ]
  },
  {
   "cell_type": "code",
   "execution_count": 40,
   "metadata": {},
   "outputs": [],
   "source": [
    "data_cjxiaoqu=data_cjxiaoqu.rename(columns={0:'xiaoqu',1:'tingshi',2:'area'})"
   ]
  },
  {
   "cell_type": "code",
   "execution_count": 41,
   "metadata": {},
   "outputs": [],
   "source": [
    "data_cjxiaoqu.area = data_cjxiaoqu.area.str.replace('平','').astype('float')"
   ]
  },
  {
   "cell_type": "code",
   "execution_count": 42,
   "metadata": {},
   "outputs": [],
   "source": [
    "data=pd.concat([data,data_cjxiaoqu],axis=1)"
   ]
  },
  {
   "cell_type": "markdown",
   "metadata": {},
   "source": [
    "#### 2.处理cjlouceng"
   ]
  },
  {
   "cell_type": "code",
   "execution_count": 43,
   "metadata": {},
   "outputs": [],
   "source": [
    "data_cjlouceng=data.cjlouceng.str.split('/',expand=True)"
   ]
  },
  {
   "cell_type": "code",
   "execution_count": 44,
   "metadata": {},
   "outputs": [],
   "source": [
    "data_cjlouceng=data_cjlouceng.rename(columns={0:'chaoxiang',1:'loucenglevel',2:'louceng'})"
   ]
  },
  {
   "cell_type": "code",
   "execution_count": 45,
   "metadata": {},
   "outputs": [],
   "source": [
    "data_cjlouceng.louceng = data_cjlouceng.louceng.str.replace('层','').astype('int')"
   ]
  },
  {
   "cell_type": "code",
   "execution_count": 46,
   "metadata": {},
   "outputs": [],
   "source": [
    "data=pd.concat([data,data_cjlouceng],axis=1)"
   ]
  },
  {
   "cell_type": "markdown",
   "metadata": {},
   "source": [
    "###### one-hot编码"
   ]
  },
  {
   "cell_type": "markdown",
   "metadata": {},
   "source": [
    "one-hot编码（独热编码）：采用N位状态寄存器来对N个状态进行编码，每个状态都有他独立的寄存器位，并且在任意时候只有一位有效。"
   ]
  },
  {
   "cell_type": "markdown",
   "metadata": {},
   "source": [
    "房屋朝向，种类比较多。目前只按照是否有朝“南”的为标准，有则设置为1，否则为0"
   ]
  },
  {
   "cell_type": "code",
   "execution_count": 47,
   "metadata": {},
   "outputs": [],
   "source": [
    "from sklearn.preprocessing import OneHotEncoder"
   ]
  },
  {
   "cell_type": "code",
   "execution_count": 48,
   "metadata": {},
   "outputs": [],
   "source": [
    "data.chaoxiang=[1 if x else 0 for x in data.chaoxiang.str.contains(\"南\")]"
   ]
  },
  {
   "cell_type": "markdown",
   "metadata": {},
   "source": [
    "楼层高低：高中低"
   ]
  },
  {
   "cell_type": "code",
   "execution_count": 49,
   "metadata": {},
   "outputs": [],
   "source": [
    "data['loucenggao']=np.array(data['loucenglevel']=='高楼层').astype(np.int32)"
   ]
  },
  {
   "cell_type": "code",
   "execution_count": 50,
   "metadata": {},
   "outputs": [],
   "source": [
    "data['loucengzhong']=np.array(data['loucenglevel']=='中楼层').astype(np.int32)"
   ]
  },
  {
   "cell_type": "code",
   "execution_count": 51,
   "metadata": {},
   "outputs": [],
   "source": [
    "data['loucengdi']=np.array(data['loucenglevel']=='低楼层').astype(np.int32)"
   ]
  },
  {
   "cell_type": "code",
   "execution_count": 52,
   "metadata": {},
   "outputs": [],
   "source": [
    "del data['cjlouceng']\n",
    "del data['loucenglevel']"
   ]
  },
  {
   "cell_type": "code",
   "execution_count": 53,
   "metadata": {},
   "outputs": [
    {
     "data": {
      "text/html": [
       "<div>\n",
       "<style scoped>\n",
       "    .dataframe tbody tr th:only-of-type {\n",
       "        vertical-align: middle;\n",
       "    }\n",
       "\n",
       "    .dataframe tbody tr th {\n",
       "        vertical-align: top;\n",
       "    }\n",
       "\n",
       "    .dataframe thead th {\n",
       "        text-align: right;\n",
       "    }\n",
       "</style>\n",
       "<table border=\"1\" class=\"dataframe\">\n",
       "  <thead>\n",
       "    <tr style=\"text-align: right;\">\n",
       "      <th></th>\n",
       "      <th>cjtaoshu</th>\n",
       "      <th>mendian</th>\n",
       "      <th>cjzongjia</th>\n",
       "      <th>zhiwei</th>\n",
       "      <th>haoping</th>\n",
       "      <th>cjdanjia</th>\n",
       "      <th>cjxiaoqu</th>\n",
       "      <th>xingming</th>\n",
       "      <th>cjzhouqi</th>\n",
       "      <th>biaoqian</th>\n",
       "      <th>...</th>\n",
       "      <th>bankuai</th>\n",
       "      <th>time</th>\n",
       "      <th>xiaoqu</th>\n",
       "      <th>tingshi</th>\n",
       "      <th>area</th>\n",
       "      <th>chaoxiang</th>\n",
       "      <th>louceng</th>\n",
       "      <th>loucenggao</th>\n",
       "      <th>loucengzhong</th>\n",
       "      <th>loucengdi</th>\n",
       "    </tr>\n",
       "    <tr>\n",
       "      <th>cjshijian</th>\n",
       "      <th></th>\n",
       "      <th></th>\n",
       "      <th></th>\n",
       "      <th></th>\n",
       "      <th></th>\n",
       "      <th></th>\n",
       "      <th></th>\n",
       "      <th></th>\n",
       "      <th></th>\n",
       "      <th></th>\n",
       "      <th></th>\n",
       "      <th></th>\n",
       "      <th></th>\n",
       "      <th></th>\n",
       "      <th></th>\n",
       "      <th></th>\n",
       "      <th></th>\n",
       "      <th></th>\n",
       "      <th></th>\n",
       "      <th></th>\n",
       "      <th></th>\n",
       "    </tr>\n",
       "  </thead>\n",
       "  <tbody>\n",
       "    <tr>\n",
       "      <th>2012-01-07</th>\n",
       "      <td>32</td>\n",
       "      <td>远洋山水中街店</td>\n",
       "      <td>180.0</td>\n",
       "      <td>店经理</td>\n",
       "      <td>99% 122</td>\n",
       "      <td>2.5</td>\n",
       "      <td>远洋山水 1室1厅 70平</td>\n",
       "      <td>卢德强</td>\n",
       "      <td>28</td>\n",
       "      <td>房东信赖;销售达人;带看活跃;海外顾问</td>\n",
       "      <td>...</td>\n",
       "      <td>鲁谷</td>\n",
       "      <td>6</td>\n",
       "      <td>远洋山水</td>\n",
       "      <td>1室1厅</td>\n",
       "      <td>70.0</td>\n",
       "      <td>0</td>\n",
       "      <td>26</td>\n",
       "      <td>0</td>\n",
       "      <td>1</td>\n",
       "      <td>0</td>\n",
       "    </tr>\n",
       "    <tr>\n",
       "      <th>2012-01-07</th>\n",
       "      <td>32</td>\n",
       "      <td>远洋山水中街店</td>\n",
       "      <td>180.0</td>\n",
       "      <td>店经理</td>\n",
       "      <td>99% 122</td>\n",
       "      <td>2.5</td>\n",
       "      <td>远洋山水 1室1厅 70平</td>\n",
       "      <td>卢德强</td>\n",
       "      <td>28</td>\n",
       "      <td>房东信赖;销售达人;带看活跃;海外顾问</td>\n",
       "      <td>...</td>\n",
       "      <td>鲁谷</td>\n",
       "      <td>6</td>\n",
       "      <td>远洋山水</td>\n",
       "      <td>1室1厅</td>\n",
       "      <td>70.0</td>\n",
       "      <td>0</td>\n",
       "      <td>26</td>\n",
       "      <td>0</td>\n",
       "      <td>1</td>\n",
       "      <td>0</td>\n",
       "    </tr>\n",
       "    <tr>\n",
       "      <th>2012-02-13</th>\n",
       "      <td>42</td>\n",
       "      <td>远洋山水中街店</td>\n",
       "      <td>235.0</td>\n",
       "      <td>店经理</td>\n",
       "      <td>95% 134</td>\n",
       "      <td>2.2</td>\n",
       "      <td>远洋山水 2室2厅 105平</td>\n",
       "      <td>乔璐璐</td>\n",
       "      <td>72</td>\n",
       "      <td>房东信赖;销售达人</td>\n",
       "      <td>...</td>\n",
       "      <td>鲁谷</td>\n",
       "      <td>43</td>\n",
       "      <td>远洋山水</td>\n",
       "      <td>2室2厅</td>\n",
       "      <td>105.0</td>\n",
       "      <td>1</td>\n",
       "      <td>24</td>\n",
       "      <td>0</td>\n",
       "      <td>1</td>\n",
       "      <td>0</td>\n",
       "    </tr>\n",
       "    <tr>\n",
       "      <th>2012-02-15</th>\n",
       "      <td>35</td>\n",
       "      <td>远洋山水一店</td>\n",
       "      <td>222.0</td>\n",
       "      <td>经纪人</td>\n",
       "      <td>95% 113</td>\n",
       "      <td>2.1</td>\n",
       "      <td>远洋山水 2室1厅 107平</td>\n",
       "      <td>冯丽琴</td>\n",
       "      <td>22</td>\n",
       "      <td>房东信赖;销售达人</td>\n",
       "      <td>...</td>\n",
       "      <td>鲁谷</td>\n",
       "      <td>45</td>\n",
       "      <td>远洋山水</td>\n",
       "      <td>2室1厅</td>\n",
       "      <td>107.0</td>\n",
       "      <td>0</td>\n",
       "      <td>26</td>\n",
       "      <td>0</td>\n",
       "      <td>1</td>\n",
       "      <td>0</td>\n",
       "    </tr>\n",
       "    <tr>\n",
       "      <th>2012-02-19</th>\n",
       "      <td>25</td>\n",
       "      <td>远洋山水东门店</td>\n",
       "      <td>122.0</td>\n",
       "      <td>店经理</td>\n",
       "      <td>100% 109</td>\n",
       "      <td>2.2</td>\n",
       "      <td>远洋山水 1室1厅 54平</td>\n",
       "      <td>成蕾</td>\n",
       "      <td>72</td>\n",
       "      <td>房东信赖;客户热评</td>\n",
       "      <td>...</td>\n",
       "      <td>鲁谷</td>\n",
       "      <td>49</td>\n",
       "      <td>远洋山水</td>\n",
       "      <td>1室1厅</td>\n",
       "      <td>54.0</td>\n",
       "      <td>0</td>\n",
       "      <td>26</td>\n",
       "      <td>0</td>\n",
       "      <td>0</td>\n",
       "      <td>1</td>\n",
       "    </tr>\n",
       "  </tbody>\n",
       "</table>\n",
       "<p>5 rows × 21 columns</p>\n",
       "</div>"
      ],
      "text/plain": [
       "            cjtaoshu  mendian  cjzongjia zhiwei   haoping  cjdanjia  \\\n",
       "cjshijian                                                             \n",
       "2012-01-07        32  远洋山水中街店      180.0    店经理   99% 122       2.5   \n",
       "2012-01-07        32  远洋山水中街店      180.0    店经理   99% 122       2.5   \n",
       "2012-02-13        42  远洋山水中街店      235.0    店经理   95% 134       2.2   \n",
       "2012-02-15        35   远洋山水一店      222.0    经纪人   95% 113       2.1   \n",
       "2012-02-19        25  远洋山水东门店      122.0    店经理  100% 109       2.2   \n",
       "\n",
       "                  cjxiaoqu xingming cjzhouqi             biaoqian  ...  \\\n",
       "cjshijian                                                          ...   \n",
       "2012-01-07   远洋山水 1室1厅 70平      卢德强       28  房东信赖;销售达人;带看活跃;海外顾问  ...   \n",
       "2012-01-07   远洋山水 1室1厅 70平      卢德强       28  房东信赖;销售达人;带看活跃;海外顾问  ...   \n",
       "2012-02-13  远洋山水 2室2厅 105平      乔璐璐       72            房东信赖;销售达人  ...   \n",
       "2012-02-15  远洋山水 2室1厅 107平      冯丽琴       22            房东信赖;销售达人  ...   \n",
       "2012-02-19   远洋山水 1室1厅 54平       成蕾       72            房东信赖;客户热评  ...   \n",
       "\n",
       "           bankuai time  xiaoqu tingshi   area  chaoxiang  louceng  \\\n",
       "cjshijian                                                            \n",
       "2012-01-07      鲁谷    6    远洋山水    1室1厅   70.0          0       26   \n",
       "2012-01-07      鲁谷    6    远洋山水    1室1厅   70.0          0       26   \n",
       "2012-02-13      鲁谷   43    远洋山水    2室2厅  105.0          1       24   \n",
       "2012-02-15      鲁谷   45    远洋山水    2室1厅  107.0          0       26   \n",
       "2012-02-19      鲁谷   49    远洋山水    1室1厅   54.0          0       26   \n",
       "\n",
       "            loucenggao  loucengzhong  loucengdi  \n",
       "cjshijian                                        \n",
       "2012-01-07           0             1          0  \n",
       "2012-01-07           0             1          0  \n",
       "2012-02-13           0             1          0  \n",
       "2012-02-15           0             1          0  \n",
       "2012-02-19           0             0          1  \n",
       "\n",
       "[5 rows x 21 columns]"
      ]
     },
     "execution_count": 53,
     "metadata": {},
     "output_type": "execute_result"
    }
   ],
   "source": [
    "data.head()"
   ]
  },
  {
   "cell_type": "code",
   "execution_count": 54,
   "metadata": {},
   "outputs": [],
   "source": [
    "data['cjzhouqi']=data['cjzhouqi'].astype('int')\n",
    "data = data[['cjdanjia','time','area','louceng','chaoxiang','cjzhouqi','cjtaoshu','loucenggao','loucengzhong','loucengdi']]\n",
    "x = data[['time','area','louceng','chaoxiang','cjzhouqi','cjtaoshu','loucenggao','loucengzhong','loucengdi']]\n",
    "y = data['cjdanjia']"
   ]
  },
  {
   "cell_type": "markdown",
   "metadata": {},
   "source": [
    "相关性分析-自变量与因变量的相关性分析：热力图"
   ]
  },
  {
   "cell_type": "markdown",
   "metadata": {},
   "source": [
    "corr():计算相关系数"
   ]
  },
  {
   "cell_type": "markdown",
   "metadata": {},
   "source": [
    "heatmap(): linewidths,热力图矩阵之间的间隔大小 annot,默认为False，当annot为True时，在heatmap中每个方格写入数据 square:是否是正方形"
   ]
  },
  {
   "cell_type": "code",
   "execution_count": 55,
   "metadata": {},
   "outputs": [
    {
     "data": {
      "text/plain": [
       "<matplotlib.axes._subplots.AxesSubplot at 0x1d1ef04c668>"
      ]
     },
     "execution_count": 55,
     "metadata": {},
     "output_type": "execute_result"
    },
    {
     "data": {
      "image/png": "[encoded data removed]",
      "text/plain": [
       "<Figure size 432x288 with 2 Axes>"
      ]
     },
     "metadata": {
      "needs_background": "light"
     },
     "output_type": "display_data"
    }
   ],
   "source": [
    "import seaborn as sns\n",
    "corrmat = data.corr()\n",
    "sns.heatmap(corrmat, square=False, linewidths=.5, annot=True)"
   ]
  },
  {
   "cell_type": "code",
   "execution_count": 56,
   "metadata": {},
   "outputs": [
    {
     "name": "stdout",
     "output_type": "stream",
     "text": [
      "cjdanjia        1.000000\n",
      "time            0.587511\n",
      "louceng         0.431028\n",
      "area            0.330899\n",
      "loucengzhong    0.186243\n",
      "chaoxiang       0.121613\n",
      "loucenggao      0.063763\n",
      "loucengdi       0.062397\n",
      "cjzhouqi       -0.078917\n",
      "cjtaoshu       -0.188449\n",
      "Name: cjdanjia, dtype: float64\n"
     ]
    }
   ],
   "source": [
    "print(corrmat[\"cjdanjia\"].sort_values(ascending=False))"
   ]
  },
  {
   "cell_type": "markdown",
   "metadata": {},
   "source": [
    "通过热力图可以看出，cjzhouqi和cjtaoshu的相关系数为负数，故将其去除"
   ]
  },
  {
   "cell_type": "code",
   "execution_count": 57,
   "metadata": {},
   "outputs": [
    {
     "data": {
      "text/plain": [
       "LinearRegression(copy_X=True, fit_intercept=True, n_jobs=None, normalize=False)"
      ]
     },
     "execution_count": 57,
     "metadata": {},
     "output_type": "execute_result"
    }
   ],
   "source": [
    "x = data[['time','area','louceng','chaoxiang','loucenggao','loucengzhong','loucengdi']]\n",
    "model3 = LinearRegression()\n",
    "model3.fit(x, y)"
   ]
  },
  {
   "cell_type": "markdown",
   "metadata": {},
   "source": [
    "#### 模型3预测"
   ]
  },
  {
   "cell_type": "code",
   "execution_count": 58,
   "metadata": {},
   "outputs": [],
   "source": [
    "y_predict3=model3.predict(x)"
   ]
  },
  {
   "cell_type": "markdown",
   "metadata": {},
   "source": [
    "#### 模型3结果可视化"
   ]
  },
  {
   "cell_type": "code",
   "execution_count": null,
   "metadata": {},
   "outputs": [],
   "source": []
  },
  {
   "cell_type": "markdown",
   "metadata": {},
   "source": [
    "#### 模型3评价"
   ]
  },
  {
   "cell_type": "code",
   "execution_count": 59,
   "metadata": {},
   "outputs": [
    {
     "name": "stdout",
     "output_type": "stream",
     "text": [
      "模型3均方误差: 0.359186993023371\n"
     ]
    }
   ],
   "source": [
    "mse=mean_squared_error(y,y_predict3)\n",
    "print(\"模型3均方误差:\",mse)"
   ]
  },
  {
   "cell_type": "markdown",
   "metadata": {},
   "source": [
    "#### 反向淘汰 P>|t|最大，先去除"
   ]
  },
  {
   "cell_type": "code",
   "execution_count": 60,
   "metadata": {},
   "outputs": [],
   "source": [
    "import statsmodels.api as sm"
   ]
  },
  {
   "cell_type": "code",
   "execution_count": 61,
   "metadata": {},
   "outputs": [],
   "source": [
    "x_data=data[['time','area','louceng','chaoxiang','loucenggao','loucengzhong']]"
   ]
  },
  {
   "cell_type": "markdown",
   "metadata": {},
   "source": [
    "由于标准库中的函数是不包含常数项的，所以需要手动加上一列"
   ]
  },
  {
   "cell_type": "code",
   "execution_count": 62,
   "metadata": {},
   "outputs": [],
   "source": [
    "x_data = np.append(arr = np.ones((x_data.shape[0], 1)).astype(int), values = x_data, axis = 1)"
   ]
  },
  {
   "cell_type": "code",
   "execution_count": 63,
   "metadata": {},
   "outputs": [
    {
     "data": {
      "text/html": [
       "<table class=\"simpletable\">\n",
       "<caption>OLS Regression Results</caption>\n",
       "<tr>\n",
       "  <th>Dep. Variable:</th>        <td>cjdanjia</td>     <th>  R-squared:         </th> <td>   0.629</td>\n",
       "</tr>\n",
       "<tr>\n",
       "  <th>Model:</th>                   <td>OLS</td>       <th>  Adj. R-squared:    </th> <td>   0.625</td>\n",
       "</tr>\n",
       "<tr>\n",
       "  <th>Method:</th>             <td>Least Squares</td>  <th>  F-statistic:       </th> <td>   133.9</td>\n",
       "</tr>\n",
       "<tr>\n",
       "  <th>Date:</th>             <td>Mon, 30 Sep 2019</td> <th>  Prob (F-statistic):</th> <td>1.25e-98</td>\n",
       "</tr>\n",
       "<tr>\n",
       "  <th>Time:</th>                 <td>17:32:53</td>     <th>  Log-Likelihood:    </th> <td> -501.44</td>\n",
       "</tr>\n",
       "<tr>\n",
       "  <th>No. Observations:</th>      <td>   480</td>      <th>  AIC:               </th> <td>   1017.</td>\n",
       "</tr>\n",
       "<tr>\n",
       "  <th>Df Residuals:</th>          <td>   473</td>      <th>  BIC:               </th> <td>   1046.</td>\n",
       "</tr>\n",
       "<tr>\n",
       "  <th>Df Model:</th>              <td>     6</td>      <th>                     </th>     <td> </td>   \n",
       "</tr>\n",
       "<tr>\n",
       "  <th>Covariance Type:</th>      <td>nonrobust</td>    <th>                     </th>     <td> </td>   \n",
       "</tr>\n",
       "</table>\n",
       "<table class=\"simpletable\">\n",
       "<tr>\n",
       "    <td></td>       <th>coef</th>     <th>std err</th>      <th>t</th>      <th>P>|t|</th>  <th>[0.025</th>    <th>0.975]</th>  \n",
       "</tr>\n",
       "<tr>\n",
       "  <th>const</th> <td>   -0.0072</td> <td>    0.165</td> <td>   -0.044</td> <td> 0.965</td> <td>   -0.331</td> <td>    0.316</td>\n",
       "</tr>\n",
       "<tr>\n",
       "  <th>x1</th>    <td>    0.0014</td> <td> 6.14e-05</td> <td>   21.996</td> <td> 0.000</td> <td>    0.001</td> <td>    0.001</td>\n",
       "</tr>\n",
       "<tr>\n",
       "  <th>x2</th>    <td>    0.0081</td> <td>    0.001</td> <td>    7.095</td> <td> 0.000</td> <td>    0.006</td> <td>    0.010</td>\n",
       "</tr>\n",
       "<tr>\n",
       "  <th>x3</th>    <td>    0.0727</td> <td>    0.006</td> <td>   11.716</td> <td> 0.000</td> <td>    0.061</td> <td>    0.085</td>\n",
       "</tr>\n",
       "<tr>\n",
       "  <th>x4</th>    <td>    0.0099</td> <td>    0.076</td> <td>    0.130</td> <td> 0.897</td> <td>   -0.140</td> <td>    0.160</td>\n",
       "</tr>\n",
       "<tr>\n",
       "  <th>x5</th>    <td>    0.2034</td> <td>    0.083</td> <td>    2.439</td> <td> 0.015</td> <td>    0.040</td> <td>    0.367</td>\n",
       "</tr>\n",
       "<tr>\n",
       "  <th>x6</th>    <td>    0.2886</td> <td>    0.075</td> <td>    3.840</td> <td> 0.000</td> <td>    0.141</td> <td>    0.436</td>\n",
       "</tr>\n",
       "</table>\n",
       "<table class=\"simpletable\">\n",
       "<tr>\n",
       "  <th>Omnibus:</th>       <td>16.282</td> <th>  Durbin-Watson:     </th> <td>   0.972</td>\n",
       "</tr>\n",
       "<tr>\n",
       "  <th>Prob(Omnibus):</th> <td> 0.000</td> <th>  Jarque-Bera (JB):  </th> <td>  36.675</td>\n",
       "</tr>\n",
       "<tr>\n",
       "  <th>Skew:</th>          <td> 0.022</td> <th>  Prob(JB):          </th> <td>1.09e-08</td>\n",
       "</tr>\n",
       "<tr>\n",
       "  <th>Kurtosis:</th>      <td> 4.353</td> <th>  Cond. No.          </th> <td>6.24e+03</td>\n",
       "</tr>\n",
       "</table><br/><br/>Warnings:<br/>[1] Standard Errors assume that the covariance matrix of the errors is correctly specified.<br/>[2] The condition number is large, 6.24e+03. This might indicate that there are<br/>strong multicollinearity or other numerical problems."
      ],
      "text/plain": [
       "<class 'statsmodels.iolib.summary.Summary'>\n",
       "\"\"\"\n",
       "                            OLS Regression Results                            \n",
       "==============================================================================\n",
       "Dep. Variable:               cjdanjia   R-squared:                       0.629\n",
       "Model:                            OLS   Adj. R-squared:                  0.625\n",
       "Method:                 Least Squares   F-statistic:                     133.9\n",
       "Date:                Mon, 30 Sep 2019   Prob (F-statistic):           1.25e-98\n",
       "Time:                        17:32:53   Log-Likelihood:                -501.44\n",
       "No. Observations:                 480   AIC:                             1017.\n",
       "Df Residuals:                     473   BIC:                             1046.\n",
       "Df Model:                           6                                         \n",
       "Covariance Type:            nonrobust                                         \n",
       "==============================================================================\n",
       "                 coef    std err          t      P>|t|      [0.025      0.975]\n",
       "------------------------------------------------------------------------------\n",
       "const         -0.0072      0.165     -0.044      0.965      -0.331       0.316\n",
       "x1             0.0014   6.14e-05     21.996      0.000       0.001       0.001\n",
       "x2             0.0081      0.001      7.095      0.000       0.006       0.010\n",
       "x3             0.0727      0.006     11.716      0.000       0.061       0.085\n",
       "x4             0.0099      0.076      0.130      0.897      -0.140       0.160\n",
       "x5             0.2034      0.083      2.439      0.015       0.040       0.367\n",
       "x6             0.2886      0.075      3.840      0.000       0.141       0.436\n",
       "==============================================================================\n",
       "Omnibus:                       16.282   Durbin-Watson:                   0.972\n",
       "Prob(Omnibus):                  0.000   Jarque-Bera (JB):               36.675\n",
       "Skew:                           0.022   Prob(JB):                     1.09e-08\n",
       "Kurtosis:                       4.353   Cond. No.                     6.24e+03\n",
       "==============================================================================\n",
       "\n",
       "Warnings:\n",
       "[1] Standard Errors assume that the covariance matrix of the errors is correctly specified.\n",
       "[2] The condition number is large, 6.24e+03. This might indicate that there are\n",
       "strong multicollinearity or other numerical problems.\n",
       "\"\"\""
      ]
     },
     "execution_count": 63,
     "metadata": {},
     "output_type": "execute_result"
    }
   ],
   "source": [
    "x_opt = x_data  [:, [0, 1, 2, 3, 4, 5,6,]]\n",
    "regressor_OLS = sm.OLS(endog = y, exog = x_opt ).fit()\n",
    "regressor_OLS.summary()"
   ]
  },
  {
   "cell_type": "code",
   "execution_count": 64,
   "metadata": {},
   "outputs": [
    {
     "data": {
      "text/html": [
       "<table class=\"simpletable\">\n",
       "<caption>OLS Regression Results</caption>\n",
       "<tr>\n",
       "  <th>Dep. Variable:</th>        <td>cjdanjia</td>     <th>  R-squared (uncentered):</th>      <td>   0.973</td>\n",
       "</tr>\n",
       "<tr>\n",
       "  <th>Model:</th>                   <td>OLS</td>       <th>  Adj. R-squared (uncentered):</th> <td>   0.973</td>\n",
       "</tr>\n",
       "<tr>\n",
       "  <th>Method:</th>             <td>Least Squares</td>  <th>  F-statistic:       </th>          <td>   2900.</td>\n",
       "</tr>\n",
       "<tr>\n",
       "  <th>Date:</th>             <td>Mon, 30 Sep 2019</td> <th>  Prob (F-statistic):</th>           <td>  0.00</td> \n",
       "</tr>\n",
       "<tr>\n",
       "  <th>Time:</th>                 <td>17:32:53</td>     <th>  Log-Likelihood:    </th>          <td> -501.44</td>\n",
       "</tr>\n",
       "<tr>\n",
       "  <th>No. Observations:</th>      <td>   480</td>      <th>  AIC:               </th>          <td>   1015.</td>\n",
       "</tr>\n",
       "<tr>\n",
       "  <th>Df Residuals:</th>          <td>   474</td>      <th>  BIC:               </th>          <td>   1040.</td>\n",
       "</tr>\n",
       "<tr>\n",
       "  <th>Df Model:</th>              <td>     6</td>      <th>                     </th>              <td> </td>   \n",
       "</tr>\n",
       "<tr>\n",
       "  <th>Covariance Type:</th>      <td>nonrobust</td>    <th>                     </th>              <td> </td>   \n",
       "</tr>\n",
       "</table>\n",
       "<table class=\"simpletable\">\n",
       "<tr>\n",
       "   <td></td>     <th>coef</th>     <th>std err</th>      <th>t</th>      <th>P>|t|</th>  <th>[0.025</th>    <th>0.975]</th>  \n",
       "</tr>\n",
       "<tr>\n",
       "  <th>x1</th> <td>    0.0013</td> <td> 5.48e-05</td> <td>   24.630</td> <td> 0.000</td> <td>    0.001</td> <td>    0.001</td>\n",
       "</tr>\n",
       "<tr>\n",
       "  <th>x2</th> <td>    0.0081</td> <td>    0.001</td> <td>    7.229</td> <td> 0.000</td> <td>    0.006</td> <td>    0.010</td>\n",
       "</tr>\n",
       "<tr>\n",
       "  <th>x3</th> <td>    0.0725</td> <td>    0.004</td> <td>   16.733</td> <td> 0.000</td> <td>    0.064</td> <td>    0.081</td>\n",
       "</tr>\n",
       "<tr>\n",
       "  <th>x4</th> <td>    0.0096</td> <td>    0.076</td> <td>    0.127</td> <td> 0.899</td> <td>   -0.140</td> <td>    0.159</td>\n",
       "</tr>\n",
       "<tr>\n",
       "  <th>x5</th> <td>    0.2034</td> <td>    0.083</td> <td>    2.441</td> <td> 0.015</td> <td>    0.040</td> <td>    0.367</td>\n",
       "</tr>\n",
       "<tr>\n",
       "  <th>x6</th> <td>    0.2886</td> <td>    0.075</td> <td>    3.845</td> <td> 0.000</td> <td>    0.141</td> <td>    0.436</td>\n",
       "</tr>\n",
       "</table>\n",
       "<table class=\"simpletable\">\n",
       "<tr>\n",
       "  <th>Omnibus:</th>       <td>16.282</td> <th>  Durbin-Watson:     </th> <td>   0.972</td>\n",
       "</tr>\n",
       "<tr>\n",
       "  <th>Prob(Omnibus):</th> <td> 0.000</td> <th>  Jarque-Bera (JB):  </th> <td>  36.680</td>\n",
       "</tr>\n",
       "<tr>\n",
       "  <th>Skew:</th>          <td> 0.021</td> <th>  Prob(JB):          </th> <td>1.08e-08</td>\n",
       "</tr>\n",
       "<tr>\n",
       "  <th>Kurtosis:</th>      <td> 4.354</td> <th>  Cond. No.          </th> <td>3.64e+03</td>\n",
       "</tr>\n",
       "</table><br/><br/>Warnings:<br/>[1] Standard Errors assume that the covariance matrix of the errors is correctly specified.<br/>[2] The condition number is large, 3.64e+03. This might indicate that there are<br/>strong multicollinearity or other numerical problems."
      ],
      "text/plain": [
       "<class 'statsmodels.iolib.summary.Summary'>\n",
       "\"\"\"\n",
       "                                 OLS Regression Results                                \n",
       "=======================================================================================\n",
       "Dep. Variable:               cjdanjia   R-squared (uncentered):                   0.973\n",
       "Model:                            OLS   Adj. R-squared (uncentered):              0.973\n",
       "Method:                 Least Squares   F-statistic:                              2900.\n",
       "Date:                Mon, 30 Sep 2019   Prob (F-statistic):                        0.00\n",
       "Time:                        17:32:53   Log-Likelihood:                         -501.44\n",
       "No. Observations:                 480   AIC:                                      1015.\n",
       "Df Residuals:                     474   BIC:                                      1040.\n",
       "Df Model:                           6                                                  \n",
       "Covariance Type:            nonrobust                                                  \n",
       "==============================================================================\n",
       "                 coef    std err          t      P>|t|      [0.025      0.975]\n",
       "------------------------------------------------------------------------------\n",
       "x1             0.0013   5.48e-05     24.630      0.000       0.001       0.001\n",
       "x2             0.0081      0.001      7.229      0.000       0.006       0.010\n",
       "x3             0.0725      0.004     16.733      0.000       0.064       0.081\n",
       "x4             0.0096      0.076      0.127      0.899      -0.140       0.159\n",
       "x5             0.2034      0.083      2.441      0.015       0.040       0.367\n",
       "x6             0.2886      0.075      3.845      0.000       0.141       0.436\n",
       "==============================================================================\n",
       "Omnibus:                       16.282   Durbin-Watson:                   0.972\n",
       "Prob(Omnibus):                  0.000   Jarque-Bera (JB):               36.680\n",
       "Skew:                           0.021   Prob(JB):                     1.08e-08\n",
       "Kurtosis:                       4.354   Cond. No.                     3.64e+03\n",
       "==============================================================================\n",
       "\n",
       "Warnings:\n",
       "[1] Standard Errors assume that the covariance matrix of the errors is correctly specified.\n",
       "[2] The condition number is large, 3.64e+03. This might indicate that there are\n",
       "strong multicollinearity or other numerical problems.\n",
       "\"\"\""
      ]
     },
     "execution_count": 64,
     "metadata": {},
     "output_type": "execute_result"
    }
   ],
   "source": [
    "x_opt = x_data  [:, [1, 2, 3,4, 5,6]]\n",
    "regressor_OLS = sm.OLS(endog = y, exog = x_opt ).fit()\n",
    "regressor_OLS.summary()"
   ]
  },
  {
   "cell_type": "code",
   "execution_count": 65,
   "metadata": {},
   "outputs": [
    {
     "data": {
      "text/html": [
       "<table class=\"simpletable\">\n",
       "<caption>OLS Regression Results</caption>\n",
       "<tr>\n",
       "  <th>Dep. Variable:</th>        <td>cjdanjia</td>     <th>  R-squared (uncentered):</th>      <td>   0.973</td>\n",
       "</tr>\n",
       "<tr>\n",
       "  <th>Model:</th>                   <td>OLS</td>       <th>  Adj. R-squared (uncentered):</th> <td>   0.973</td>\n",
       "</tr>\n",
       "<tr>\n",
       "  <th>Method:</th>             <td>Least Squares</td>  <th>  F-statistic:       </th>          <td>   3487.</td>\n",
       "</tr>\n",
       "<tr>\n",
       "  <th>Date:</th>             <td>Mon, 30 Sep 2019</td> <th>  Prob (F-statistic):</th>           <td>  0.00</td> \n",
       "</tr>\n",
       "<tr>\n",
       "  <th>Time:</th>                 <td>17:32:53</td>     <th>  Log-Likelihood:    </th>          <td> -501.45</td>\n",
       "</tr>\n",
       "<tr>\n",
       "  <th>No. Observations:</th>      <td>   480</td>      <th>  AIC:               </th>          <td>   1013.</td>\n",
       "</tr>\n",
       "<tr>\n",
       "  <th>Df Residuals:</th>          <td>   475</td>      <th>  BIC:               </th>          <td>   1034.</td>\n",
       "</tr>\n",
       "<tr>\n",
       "  <th>Df Model:</th>              <td>     5</td>      <th>                     </th>              <td> </td>   \n",
       "</tr>\n",
       "<tr>\n",
       "  <th>Covariance Type:</th>      <td>nonrobust</td>    <th>                     </th>              <td> </td>   \n",
       "</tr>\n",
       "</table>\n",
       "<table class=\"simpletable\">\n",
       "<tr>\n",
       "   <td></td>     <th>coef</th>     <th>std err</th>      <th>t</th>      <th>P>|t|</th>  <th>[0.025</th>    <th>0.975]</th>  \n",
       "</tr>\n",
       "<tr>\n",
       "  <th>x1</th> <td>    0.0013</td> <td> 5.46e-05</td> <td>   24.706</td> <td> 0.000</td> <td>    0.001</td> <td>    0.001</td>\n",
       "</tr>\n",
       "<tr>\n",
       "  <th>x2</th> <td>    0.0081</td> <td>    0.001</td> <td>    8.987</td> <td> 0.000</td> <td>    0.006</td> <td>    0.010</td>\n",
       "</tr>\n",
       "<tr>\n",
       "  <th>x3</th> <td>    0.0724</td> <td>    0.004</td> <td>   17.232</td> <td> 0.000</td> <td>    0.064</td> <td>    0.081</td>\n",
       "</tr>\n",
       "<tr>\n",
       "  <th>x4</th> <td>    0.2035</td> <td>    0.083</td> <td>    2.446</td> <td> 0.015</td> <td>    0.040</td> <td>    0.367</td>\n",
       "</tr>\n",
       "<tr>\n",
       "  <th>x5</th> <td>    0.2888</td> <td>    0.075</td> <td>    3.853</td> <td> 0.000</td> <td>    0.142</td> <td>    0.436</td>\n",
       "</tr>\n",
       "</table>\n",
       "<table class=\"simpletable\">\n",
       "<tr>\n",
       "  <th>Omnibus:</th>       <td>16.035</td> <th>  Durbin-Watson:     </th> <td>   0.971</td>\n",
       "</tr>\n",
       "<tr>\n",
       "  <th>Prob(Omnibus):</th> <td> 0.000</td> <th>  Jarque-Bera (JB):  </th> <td>  35.745</td>\n",
       "</tr>\n",
       "<tr>\n",
       "  <th>Skew:</th>          <td> 0.026</td> <th>  Prob(JB):          </th> <td>1.73e-08</td>\n",
       "</tr>\n",
       "<tr>\n",
       "  <th>Kurtosis:</th>      <td> 4.336</td> <th>  Cond. No.          </th> <td>3.64e+03</td>\n",
       "</tr>\n",
       "</table><br/><br/>Warnings:<br/>[1] Standard Errors assume that the covariance matrix of the errors is correctly specified.<br/>[2] The condition number is large, 3.64e+03. This might indicate that there are<br/>strong multicollinearity or other numerical problems."
      ],
      "text/plain": [
       "<class 'statsmodels.iolib.summary.Summary'>\n",
       "\"\"\"\n",
       "                                 OLS Regression Results                                \n",
       "=======================================================================================\n",
       "Dep. Variable:               cjdanjia   R-squared (uncentered):                   0.973\n",
       "Model:                            OLS   Adj. R-squared (uncentered):              0.973\n",
       "Method:                 Least Squares   F-statistic:                              3487.\n",
       "Date:                Mon, 30 Sep 2019   Prob (F-statistic):                        0.00\n",
       "Time:                        17:32:53   Log-Likelihood:                         -501.45\n",
       "No. Observations:                 480   AIC:                                      1013.\n",
       "Df Residuals:                     475   BIC:                                      1034.\n",
       "Df Model:                           5                                                  \n",
       "Covariance Type:            nonrobust                                                  \n",
       "==============================================================================\n",
       "                 coef    std err          t      P>|t|      [0.025      0.975]\n",
       "------------------------------------------------------------------------------\n",
       "x1             0.0013   5.46e-05     24.706      0.000       0.001       0.001\n",
       "x2             0.0081      0.001      8.987      0.000       0.006       0.010\n",
       "x3             0.0724      0.004     17.232      0.000       0.064       0.081\n",
       "x4             0.2035      0.083      2.446      0.015       0.040       0.367\n",
       "x5             0.2888      0.075      3.853      0.000       0.142       0.436\n",
       "==============================================================================\n",
       "Omnibus:                       16.035   Durbin-Watson:                   0.971\n",
       "Prob(Omnibus):                  0.000   Jarque-Bera (JB):               35.745\n",
       "Skew:                           0.026   Prob(JB):                     1.73e-08\n",
       "Kurtosis:                       4.336   Cond. No.                     3.64e+03\n",
       "==============================================================================\n",
       "\n",
       "Warnings:\n",
       "[1] Standard Errors assume that the covariance matrix of the errors is correctly specified.\n",
       "[2] The condition number is large, 3.64e+03. This might indicate that there are\n",
       "strong multicollinearity or other numerical problems.\n",
       "\"\"\""
      ]
     },
     "execution_count": 65,
     "metadata": {},
     "output_type": "execute_result"
    }
   ],
   "source": [
    "x_opt = x_data  [:, [1, 2, 3,5,6]]\n",
    "regressor_OLS = sm.OLS(endog = y, exog = x_opt ).fit()\n",
    "regressor_OLS.summary()"
   ]
  },
  {
   "cell_type": "code",
   "execution_count": 66,
   "metadata": {},
   "outputs": [
    {
     "data": {
      "text/html": [
       "<table class=\"simpletable\">\n",
       "<caption>OLS Regression Results</caption>\n",
       "<tr>\n",
       "  <th>Dep. Variable:</th>        <td>cjdanjia</td>     <th>  R-squared (uncentered):</th>      <td>   0.973</td>\n",
       "</tr>\n",
       "<tr>\n",
       "  <th>Model:</th>                   <td>OLS</td>       <th>  Adj. R-squared (uncentered):</th> <td>   0.973</td>\n",
       "</tr>\n",
       "<tr>\n",
       "  <th>Method:</th>             <td>Least Squares</td>  <th>  F-statistic:       </th>          <td>   4312.</td>\n",
       "</tr>\n",
       "<tr>\n",
       "  <th>Date:</th>             <td>Mon, 30 Sep 2019</td> <th>  Prob (F-statistic):</th>           <td>  0.00</td> \n",
       "</tr>\n",
       "<tr>\n",
       "  <th>Time:</th>                 <td>17:32:53</td>     <th>  Log-Likelihood:    </th>          <td> -504.46</td>\n",
       "</tr>\n",
       "<tr>\n",
       "  <th>No. Observations:</th>      <td>   480</td>      <th>  AIC:               </th>          <td>   1017.</td>\n",
       "</tr>\n",
       "<tr>\n",
       "  <th>Df Residuals:</th>          <td>   476</td>      <th>  BIC:               </th>          <td>   1034.</td>\n",
       "</tr>\n",
       "<tr>\n",
       "  <th>Df Model:</th>              <td>     4</td>      <th>                     </th>              <td> </td>   \n",
       "</tr>\n",
       "<tr>\n",
       "  <th>Covariance Type:</th>      <td>nonrobust</td>    <th>                     </th>              <td> </td>   \n",
       "</tr>\n",
       "</table>\n",
       "<table class=\"simpletable\">\n",
       "<tr>\n",
       "   <td></td>     <th>coef</th>     <th>std err</th>      <th>t</th>      <th>P>|t|</th>  <th>[0.025</th>    <th>0.975]</th>  \n",
       "</tr>\n",
       "<tr>\n",
       "  <th>x1</th> <td>    0.0013</td> <td> 5.49e-05</td> <td>   24.545</td> <td> 0.000</td> <td>    0.001</td> <td>    0.001</td>\n",
       "</tr>\n",
       "<tr>\n",
       "  <th>x2</th> <td>    0.0082</td> <td>    0.001</td> <td>    9.075</td> <td> 0.000</td> <td>    0.006</td> <td>    0.010</td>\n",
       "</tr>\n",
       "<tr>\n",
       "  <th>x3</th> <td>    0.0754</td> <td>    0.004</td> <td>   18.655</td> <td> 0.000</td> <td>    0.067</td> <td>    0.083</td>\n",
       "</tr>\n",
       "<tr>\n",
       "  <th>x4</th> <td>    0.2051</td> <td>    0.067</td> <td>    3.059</td> <td> 0.002</td> <td>    0.073</td> <td>    0.337</td>\n",
       "</tr>\n",
       "</table>\n",
       "<table class=\"simpletable\">\n",
       "<tr>\n",
       "  <th>Omnibus:</th>       <td>18.081</td> <th>  Durbin-Watson:     </th> <td>   0.981</td>\n",
       "</tr>\n",
       "<tr>\n",
       "  <th>Prob(Omnibus):</th> <td> 0.000</td> <th>  Jarque-Bera (JB):  </th> <td>  43.606</td>\n",
       "</tr>\n",
       "<tr>\n",
       "  <th>Skew:</th>          <td>-0.008</td> <th>  Prob(JB):          </th> <td>3.40e-10</td>\n",
       "</tr>\n",
       "<tr>\n",
       "  <th>Kurtosis:</th>      <td> 4.476</td> <th>  Cond. No.          </th> <td>2.53e+03</td>\n",
       "</tr>\n",
       "</table><br/><br/>Warnings:<br/>[1] Standard Errors assume that the covariance matrix of the errors is correctly specified.<br/>[2] The condition number is large, 2.53e+03. This might indicate that there are<br/>strong multicollinearity or other numerical problems."
      ],
      "text/plain": [
       "<class 'statsmodels.iolib.summary.Summary'>\n",
       "\"\"\"\n",
       "                                 OLS Regression Results                                \n",
       "=======================================================================================\n",
       "Dep. Variable:               cjdanjia   R-squared (uncentered):                   0.973\n",
       "Model:                            OLS   Adj. R-squared (uncentered):              0.973\n",
       "Method:                 Least Squares   F-statistic:                              4312.\n",
       "Date:                Mon, 30 Sep 2019   Prob (F-statistic):                        0.00\n",
       "Time:                        17:32:53   Log-Likelihood:                         -504.46\n",
       "No. Observations:                 480   AIC:                                      1017.\n",
       "Df Residuals:                     476   BIC:                                      1034.\n",
       "Df Model:                           4                                                  \n",
       "Covariance Type:            nonrobust                                                  \n",
       "==============================================================================\n",
       "                 coef    std err          t      P>|t|      [0.025      0.975]\n",
       "------------------------------------------------------------------------------\n",
       "x1             0.0013   5.49e-05     24.545      0.000       0.001       0.001\n",
       "x2             0.0082      0.001      9.075      0.000       0.006       0.010\n",
       "x3             0.0754      0.004     18.655      0.000       0.067       0.083\n",
       "x4             0.2051      0.067      3.059      0.002       0.073       0.337\n",
       "==============================================================================\n",
       "Omnibus:                       18.081   Durbin-Watson:                   0.981\n",
       "Prob(Omnibus):                  0.000   Jarque-Bera (JB):               43.606\n",
       "Skew:                          -0.008   Prob(JB):                     3.40e-10\n",
       "Kurtosis:                       4.476   Cond. No.                     2.53e+03\n",
       "==============================================================================\n",
       "\n",
       "Warnings:\n",
       "[1] Standard Errors assume that the covariance matrix of the errors is correctly specified.\n",
       "[2] The condition number is large, 2.53e+03. This might indicate that there are\n",
       "strong multicollinearity or other numerical problems.\n",
       "\"\"\""
      ]
     },
     "execution_count": 66,
     "metadata": {},
     "output_type": "execute_result"
    }
   ],
   "source": [
    "x_opt = x_data  [:, [ 1, 2, 3,6]]\n",
    "regressor_OLS = sm.OLS(endog = y, exog = x_opt ).fit()\n",
    "regressor_OLS.summary()"
   ]
  },
  {
   "cell_type": "code",
   "execution_count": 67,
   "metadata": {},
   "outputs": [
    {
     "data": {
      "text/html": [
       "<table class=\"simpletable\">\n",
       "<caption>OLS Regression Results</caption>\n",
       "<tr>\n",
       "  <th>Dep. Variable:</th>        <td>cjdanjia</td>     <th>  R-squared (uncentered):</th>      <td>   0.973</td>\n",
       "</tr>\n",
       "<tr>\n",
       "  <th>Model:</th>                   <td>OLS</td>       <th>  Adj. R-squared (uncentered):</th> <td>   0.972</td>\n",
       "</tr>\n",
       "<tr>\n",
       "  <th>Method:</th>             <td>Least Squares</td>  <th>  F-statistic:       </th>          <td>   5648.</td>\n",
       "</tr>\n",
       "<tr>\n",
       "  <th>Date:</th>             <td>Mon, 30 Sep 2019</td> <th>  Prob (F-statistic):</th>           <td>  0.00</td> \n",
       "</tr>\n",
       "<tr>\n",
       "  <th>Time:</th>                 <td>17:32:53</td>     <th>  Log-Likelihood:    </th>          <td> -509.13</td>\n",
       "</tr>\n",
       "<tr>\n",
       "  <th>No. Observations:</th>      <td>   480</td>      <th>  AIC:               </th>          <td>   1024.</td>\n",
       "</tr>\n",
       "<tr>\n",
       "  <th>Df Residuals:</th>          <td>   477</td>      <th>  BIC:               </th>          <td>   1037.</td>\n",
       "</tr>\n",
       "<tr>\n",
       "  <th>Df Model:</th>              <td>     3</td>      <th>                     </th>              <td> </td>   \n",
       "</tr>\n",
       "<tr>\n",
       "  <th>Covariance Type:</th>      <td>nonrobust</td>    <th>                     </th>              <td> </td>   \n",
       "</tr>\n",
       "</table>\n",
       "<table class=\"simpletable\">\n",
       "<tr>\n",
       "   <td></td>     <th>coef</th>     <th>std err</th>      <th>t</th>      <th>P>|t|</th>  <th>[0.025</th>    <th>0.975]</th>  \n",
       "</tr>\n",
       "<tr>\n",
       "  <th>x1</th> <td>    0.0014</td> <td> 5.53e-05</td> <td>   24.488</td> <td> 0.000</td> <td>    0.001</td> <td>    0.001</td>\n",
       "</tr>\n",
       "<tr>\n",
       "  <th>x2</th> <td>    0.0084</td> <td>    0.001</td> <td>    9.161</td> <td> 0.000</td> <td>    0.007</td> <td>    0.010</td>\n",
       "</tr>\n",
       "<tr>\n",
       "  <th>x3</th> <td>    0.0776</td> <td>    0.004</td> <td>   19.350</td> <td> 0.000</td> <td>    0.070</td> <td>    0.085</td>\n",
       "</tr>\n",
       "</table>\n",
       "<table class=\"simpletable\">\n",
       "<tr>\n",
       "  <th>Omnibus:</th>       <td>20.912</td> <th>  Durbin-Watson:     </th> <td>   1.008</td>\n",
       "</tr>\n",
       "<tr>\n",
       "  <th>Prob(Omnibus):</th> <td> 0.000</td> <th>  Jarque-Bera (JB):  </th> <td>  55.505</td>\n",
       "</tr>\n",
       "<tr>\n",
       "  <th>Skew:</th>          <td>-0.025</td> <th>  Prob(JB):          </th> <td>8.86e-13</td>\n",
       "</tr>\n",
       "<tr>\n",
       "  <th>Kurtosis:</th>      <td> 4.665</td> <th>  Cond. No.          </th> <td>    152.</td>\n",
       "</tr>\n",
       "</table><br/><br/>Warnings:<br/>[1] Standard Errors assume that the covariance matrix of the errors is correctly specified."
      ],
      "text/plain": [
       "<class 'statsmodels.iolib.summary.Summary'>\n",
       "\"\"\"\n",
       "                                 OLS Regression Results                                \n",
       "=======================================================================================\n",
       "Dep. Variable:               cjdanjia   R-squared (uncentered):                   0.973\n",
       "Model:                            OLS   Adj. R-squared (uncentered):              0.972\n",
       "Method:                 Least Squares   F-statistic:                              5648.\n",
       "Date:                Mon, 30 Sep 2019   Prob (F-statistic):                        0.00\n",
       "Time:                        17:32:53   Log-Likelihood:                         -509.13\n",
       "No. Observations:                 480   AIC:                                      1024.\n",
       "Df Residuals:                     477   BIC:                                      1037.\n",
       "Df Model:                           3                                                  \n",
       "Covariance Type:            nonrobust                                                  \n",
       "==============================================================================\n",
       "                 coef    std err          t      P>|t|      [0.025      0.975]\n",
       "------------------------------------------------------------------------------\n",
       "x1             0.0014   5.53e-05     24.488      0.000       0.001       0.001\n",
       "x2             0.0084      0.001      9.161      0.000       0.007       0.010\n",
       "x3             0.0776      0.004     19.350      0.000       0.070       0.085\n",
       "==============================================================================\n",
       "Omnibus:                       20.912   Durbin-Watson:                   1.008\n",
       "Prob(Omnibus):                  0.000   Jarque-Bera (JB):               55.505\n",
       "Skew:                          -0.025   Prob(JB):                     8.86e-13\n",
       "Kurtosis:                       4.665   Cond. No.                         152.\n",
       "==============================================================================\n",
       "\n",
       "Warnings:\n",
       "[1] Standard Errors assume that the covariance matrix of the errors is correctly specified.\n",
       "\"\"\""
      ]
     },
     "execution_count": 67,
     "metadata": {},
     "output_type": "execute_result"
    }
   ],
   "source": [
    "x_opt = x_data  [:, [ 1, 2, 3]]\n",
    "regressor_OLS = sm.OLS(endog = y, exog = x_opt ).fit()\n",
    "regressor_OLS.summary()"
   ]
  },
  {
   "cell_type": "markdown",
   "metadata": {},
   "source": [
    "#### 模型3调整"
   ]
  },
  {
   "cell_type": "code",
   "execution_count": 68,
   "metadata": {},
   "outputs": [],
   "source": [
    "x=data[['time','area','louceng']]"
   ]
  },
  {
   "cell_type": "code",
   "execution_count": 69,
   "metadata": {},
   "outputs": [
    {
     "data": {
      "text/plain": [
       "LinearRegression(copy_X=True, fit_intercept=True, n_jobs=None, normalize=False)"
      ]
     },
     "execution_count": 69,
     "metadata": {},
     "output_type": "execute_result"
    }
   ],
   "source": [
    "model3_change = LinearRegression()\n",
    "model3_change.fit(x, y)"
   ]
  },
  {
   "cell_type": "code",
   "execution_count": 70,
   "metadata": {},
   "outputs": [],
   "source": [
    "y_predict3_change=model3_change.predict(x)"
   ]
  },
  {
   "cell_type": "code",
   "execution_count": 71,
   "metadata": {},
   "outputs": [
    {
     "name": "stdout",
     "output_type": "stream",
     "text": [
      "调整后的模型3均方误差: 0.4884510975921369\n"
     ]
    }
   ],
   "source": [
    "mse=mean_squared_error(y,y_predict3_change)\n",
    "print(\"调整后的模型3均方误差:\",mse)"
   ]
  },
  {
   "cell_type": "markdown",
   "metadata": {},
   "source": [
    "模型3，调整后误差反而上升了。"
   ]
  },
  {
   "cell_type": "markdown",
   "metadata": {},
   "source": [
    "# 四、结论\n",
    "对比上述模型，给出结论（至少3条，不要定性分析，要定量分析）"
   ]
  },
  {
   "cell_type": "markdown",
   "metadata": {},
   "source": [
    "答：1）模型1，模型2和模型3的均方误差分别为0.85,0.62,0.35,其中模型3的MSE最低，综上模型3的预测效果最好"
   ]
  },
  {
   "cell_type": "markdown",
   "metadata": {},
   "source": [
    "2）根据热力图，可以得到房价相关性\n",
    "cjdanjia        1.000000\n",
    "time            0.587511\n",
    "louceng         0.431028\n",
    "area            0.330899\n",
    "loucengzhong    0.186243\n",
    "chaoxiang       0.121613\n",
    "loucenggao      0.063763\n",
    "loucengdi       0.062397\n",
    "cjzhouqi       -0.078917\n",
    "cjtaoshu       -0.188449\n",
    "影响房价最主要的因素是时间。"
   ]
  },
  {
   "cell_type": "markdown",
   "metadata": {},
   "source": [
    "3）房价预测"
   ]
  },
  {
   "cell_type": "code",
   "execution_count": 73,
   "metadata": {},
   "outputs": [
    {
     "name": "stdout",
     "output_type": "stream",
     "text": [
      "预测单价: [5.3522206] 万元/平\n"
     ]
    }
   ],
   "source": [
    "#预测2012年1月1日1800天后，远洋山水小区中层(10层)的面积为100平朝南的房价\n",
    "x = np.array([[1800,100,10,1,0,1,0]])\n",
    "y = model3.predict(x)\n",
    "print('预测单价: {} 万元/平'.format(y))"
   ]
  },
  {
   "cell_type": "code",
   "execution_count": null,
   "metadata": {},
   "outputs": [],
   "source": []
  }
 ],
 "metadata": {
  "kernelspec": {
   "display_name": "Python 3",
   "language": "python",
   "name": "python3"
  },
  "language_info": {
   "codemirror_mode": {
    "name": "ipython",
    "version": 3
   },
   "file_extension": ".py",
   "mimetype": "text/x-python",
   "name": "python",
   "nbconvert_exporter": "python",
   "pygments_lexer": "ipython3",
   "version": "3.7.3"
  }
 },
 "nbformat": 4,
 "nbformat_minor": 2
}
